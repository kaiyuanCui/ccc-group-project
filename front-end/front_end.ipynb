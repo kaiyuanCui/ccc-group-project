{
 "cells": [
  {
   "cell_type": "code",
   "execution_count": null,
   "metadata": {},
   "outputs": [],
   "source": [
    "from elasticsearch import Elasticsearch, helpers\n",
    "import requests\n",
    "import json\n",
    "import pandas as pd\n",
    "import re\n",
    "import ast\n",
    "import folium\n",
    "from folium.plugins import HeatMap\n",
    "import matplotlib.pyplot as plt\n",
    "import geopandas as gpd\n",
    "from shapely.geometry import shape, MultiPolygon\n",
    "import pyecharts.options as opts\n",
    "from pyecharts.charts import Timeline, Bar, Grid, Pie, Line\n",
    "from pyecharts.globals import ThemeType\n",
    "import warnings\n",
    "warnings.filterwarnings('ignore')\n",
    "from requests.exceptions import RequestException\n",
    "requests.packages.urllib3.disable_warnings()\n",
    "\n",
    "\n",
    "import numpy as np\n",
    "from sklearn.cross_decomposition import PLSRegression\n",
    "from sklearn.preprocessing import StandardScaler\n",
    "import seaborn as sns\n"
   ]
  },
  {
   "cell_type": "code",
   "execution_count": null,
   "metadata": {},
   "outputs": [],
   "source": [
    "url = 'https://localhost:9200'\n",
    "headers = {'Content-Type': 'application/json'}\n",
    "auth = ('elastic', 'elastic')\n",
    "requests.packages.urllib3.disable_warnings()\n",
    "verify_ssl = False\n",
    "client = Elasticsearch (\n",
    "        'https://localhost:9200',\n",
    "        verify_certs= False,\n",
    "        ssl_show_warn= False,\n",
    "        basic_auth=auth\n",
    "    )"
   ]
  },
  {
   "cell_type": "code",
   "execution_count": null,
   "metadata": {},
   "outputs": [],
   "source": [
    "search_body = {\n",
    "    \"query\": {\n",
    "        \"match_all\": {}\n",
    "    }}\n",
    "geo_response = client.search(index='geodata', body=search_body, size = 1000)"
   ]
  },
  {
   "cell_type": "code",
   "execution_count": null,
   "metadata": {},
   "outputs": [],
   "source": [
    "hits = geo_response['hits']['hits']\n",
    "data = [hit['_source'] for hit in hits]\n",
    "df = pd.DataFrame(data)"
   ]
  },
  {
   "cell_type": "markdown",
   "metadata": {},
   "source": [
    "## Geo Data Load"
   ]
  },
  {
   "cell_type": "code",
   "execution_count": null,
   "metadata": {},
   "outputs": [],
   "source": [
    "def convert_to_shape(geo_dict):\n",
    "    return shape(geo_dict)\n",
    "df['geometry'] = df['geometry'].apply(convert_to_shape)\n",
    "geo_data = gpd.GeoDataFrame(df, geometry='geometry')\n",
    "geo_data = geo_data.rename(columns={\n",
    "    'State_name_2021': 'state_name',\n",
    "    'LGA_code_2023': 'lga_code',\n",
    "    'LGA_name_2023': 'lga_name'\n",
    "})"
   ]
  },
  {
   "cell_type": "code",
   "execution_count": null,
   "metadata": {},
   "outputs": [],
   "source": [
    "crime = pd.read_csv('data/crime.csv')\n",
    "economy = pd.read_csv('data/economy.csv')\n",
    "population = pd.read_csv('data/population.csv')\n",
    "\n",
    "population = population.fillna(0)\n",
    "crime = crime.fillna(0)\n",
    "economy = economy.fillna(0)"
   ]
  },
  {
   "cell_type": "markdown",
   "metadata": {},
   "source": [
    "## Transform Data into Formal Dataframe"
   ]
  },
  {
   "cell_type": "code",
   "execution_count": null,
   "metadata": {},
   "outputs": [],
   "source": [
    "homeless_url = 'http://localhost:9090/homeless'\n",
    "homeless_response = requests.get(homeless_url)\n",
    "if homeless_response.status_code == 200:\n",
    "    json_data = homeless_response.json()\n",
    "    homeless_df = pd.DataFrame(json_data)\n",
    "else:\n",
    "    print(f\"Request failed with status code: {homeless_response.status_code}\")"
   ]
  },
  {
   "cell_type": "code",
   "execution_count": null,
   "metadata": {},
   "outputs": [],
   "source": [
    "homeless_state_df = pd.merge(geo_data, homeless_df, on = ['lga_code'], how = 'inner')\n",
    "homeless_state_df['year'] = homeless_state_df['year'].astype(int)\n",
    "# homeless_state_df = homeless_state_df.drop(columns = 'geometry')\n",
    "homeless_state_df = homeless_state_df.drop(columns = 'lga_name_y')\n",
    "homeless_state_df = homeless_state_df.rename(columns={\n",
    "    'lga_name_x': 'lga_name'})"
   ]
  },
  {
   "cell_type": "code",
   "execution_count": null,
   "metadata": {},
   "outputs": [],
   "source": [
    "state_total = homeless_state_df.groupby('state_name')['total'].sum().reset_index()\n",
    "state_categories = homeless_state_df.groupby('state_name')[['at_risk', 'homeless', 'not_state']].sum().reset_index()\n",
    "\n",
    "states = state_total['state_name'].tolist()\n",
    "total_values = state_total['total'].tolist()\n",
    "at_risk_values = state_categories['at_risk'].tolist()\n",
    "homeless_values = state_categories['homeless'].tolist()\n",
    "not_state_values = state_categories['not_state'].tolist()\n",
    "\n",
    "bar = (\n",
    "    Bar(init_opts=opts.InitOpts(theme=ThemeType.LIGHT))\n",
    "    .add_xaxis(states)\n",
    "    .add_yaxis(\"At Risk\", at_risk_values, stack=\"stack1\", category_gap=\"50%\", label_opts=opts.LabelOpts(is_show=False))\n",
    "    .add_yaxis(\"Homeless\", homeless_values, stack=\"stack1\", category_gap=\"50%\", label_opts=opts.LabelOpts(is_show=False))\n",
    "    .add_yaxis(\"Not State\", not_state_values, stack=\"stack1\", category_gap=\"50%\", label_opts=opts.LabelOpts(is_show=False))\n",
    "    .extend_axis(\n",
    "        yaxis=opts.AxisOpts(\n",
    "            name=\"Total\",\n",
    "            type_=\"value\",\n",
    "            min_=0,\n",
    "            max_=max(total_values) * 1.2,\n",
    "            interval=max(total_values) / 5,\n",
    "            axislabel_opts=opts.LabelOpts(formatter=\"{value}\"),\n",
    "        )\n",
    "    )\n",
    "    .set_global_opts(\n",
    "        title_opts=opts.TitleOpts(title=\"Total and Categories by State\"),\n",
    "        tooltip_opts=opts.TooltipOpts(trigger=\"axis\", axis_pointer_type=\"shadow\"),\n",
    "        xaxis_opts=opts.AxisOpts(type_=\"category\"),\n",
    "        yaxis_opts=opts.AxisOpts(\n",
    "            type_=\"value\",\n",
    "            name=\"Counts\",\n",
    "            axislabel_opts=opts.LabelOpts(formatter=\"{value}\", font_size=10),\n",
    "        ),\n",
    "    )\n",
    ")\n",
    "\n",
    "# Create a line chart\n",
    "line = (\n",
    "    Line()\n",
    "    .add_xaxis(states)\n",
    "    .add_yaxis(\n",
    "        \"Total\", \n",
    "        total_values, \n",
    "        yaxis_index=1, \n",
    "        label_opts=opts.LabelOpts(is_show=False)\n",
    "    )\n",
    ")\n",
    "\n",
    "# Combine bar and line charts\n",
    "bar.overlap(line).render_notebook()"
   ]
  },
  {
   "cell_type": "code",
   "execution_count": null,
   "metadata": {},
   "outputs": [],
   "source": [
    "def format_data(dataframe):\n",
    "    years = dataframe['year'].unique()\n",
    "    formatted_data = {}\n",
    "    for year in years:\n",
    "        yearly_data = dataframe[dataframe['year'] == year]\n",
    "        top10_data = yearly_data.nlargest(10, 'total')\n",
    "        formatted_data[year] = {\n",
    "            'lga_name': top10_data['lga_name'].tolist(),\n",
    "            'at_risk': top10_data['at_risk'].tolist(),\n",
    "            'homeless': top10_data['homeless'].tolist(),\n",
    "            'not_state': top10_data['not_state'].tolist()\n",
    "        }\n",
    "    return formatted_data\n",
    "victoria_data = homeless_state_df[homeless_state_df['state_name'] == 'Victoria'].sort_values(by='year')\n",
    "formatted_data = format_data(victoria_data)"
   ]
  },
  {
   "cell_type": "code",
   "execution_count": null,
   "metadata": {},
   "outputs": [],
   "source": [
    "def get_year_overlap_chart(year):\n",
    "    bar = (\n",
    "        Bar()\n",
    "        .add_xaxis(xaxis_data=formatted_data[year]['lga_name'])\n",
    "        .add_yaxis(\n",
    "            series_name=\"At Risk\",\n",
    "            y_axis=formatted_data[year]['at_risk'],\n",
    "            label_opts=opts.LabelOpts(is_show=False),\n",
    "        )\n",
    "        .add_yaxis(\n",
    "            series_name=\"Homeless\",\n",
    "            y_axis=formatted_data[year]['homeless'],\n",
    "            label_opts=opts.LabelOpts(is_show=False),\n",
    "        )\n",
    "        .add_yaxis(\n",
    "            series_name=\"Not State\",\n",
    "            y_axis=formatted_data[year]['not_state'],\n",
    "            label_opts=opts.LabelOpts(is_show=False),\n",
    "        )\n",
    "        .set_global_opts(\n",
    "            title_opts=opts.TitleOpts(\n",
    "                title=\"{} Homelessness Data\".format(year), subtitle=\"Data by LGA\"\n",
    "            ),\n",
    "            tooltip_opts=opts.TooltipOpts(\n",
    "                is_show=True, trigger=\"axis\", axis_pointer_type=\"shadow\"\n",
    "            ),\n",
    "            legend_opts=opts.LegendOpts(\n",
    "                selected_map={\n",
    "                    \"At Risk\": True,\n",
    "                    \"Homeless\": True,\n",
    "                    \"Not State\": True,\n",
    "                }\n",
    "            ),\n",
    "            xaxis_opts=opts.AxisOpts(\n",
    "                axislabel_opts=opts.LabelOpts(rotate=10, font_size=10)\n",
    "            )\n",
    "        )\n",
    "    )\n",
    "    pie = (\n",
    "        Pie()\n",
    "        .add(\n",
    "            series_name=\"Homelessness Breakdown\",\n",
    "            data_pair=[\n",
    "                [\"At Risk\", sum(formatted_data[year]['at_risk'])],\n",
    "                [\"Homeless\", sum(formatted_data[year]['homeless'])],\n",
    "                [\"Not State\", sum(formatted_data[year]['not_state'])],\n",
    "            ],\n",
    "            center=[\"75%\", \"35%\"],\n",
    "            radius=\"28%\",\n",
    "        )\n",
    "        .set_series_opts(tooltip_opts=opts.TooltipOpts(is_show=True, trigger=\"item\"))\n",
    "    )\n",
    "    return bar.overlap(pie)\n",
    "\n",
    "timeline = Timeline(init_opts=opts.InitOpts(\n",
    "    theme=ThemeType.LIGHT,\n",
    "    width=\"1200px\",\n",
    "    height=\"800px\"\n",
    "))\n",
    "\n",
    "for y in formatted_data.keys():\n",
    "    timeline.add(get_year_overlap_chart(year=y), time_point=str(y))\n",
    "\n",
    "timeline.add_schema(is_auto_play=False, play_interval=3000)\n",
    "timeline.render_notebook()"
   ]
  },
  {
   "cell_type": "markdown",
   "metadata": {},
   "source": [
    "### Economy Data Transform"
   ]
  },
  {
   "cell_type": "code",
   "execution_count": null,
   "metadata": {},
   "outputs": [],
   "source": [
    "transformed_economy_data = []\n",
    "\n",
    "for column in economy.columns:\n",
    "    if column not in ['fin_yr', ' lga_name_2019', ' lga_code_2019'] and all(x not in column for x in ['bsnss_entrs','bsnss_entrs','indstry_emplynt', 'nmbr_bsnsss', 'registered_motor_vehicles', 'rgstrd_mtr_vhcls']):\n",
    "        if 'business_entries' in column:\n",
    "            type_ = 'business_entries'\n",
    "        elif 'business_exits' in column:\n",
    "            type_ = 'business_exits'\n",
    "        elif 'number_of_businesses' in column and 'construction' in column:\n",
    "            type_ = 'construction_businesses'\n",
    "        elif 'number_of_businesses' in column and 'mining' in column:\n",
    "            type_ = 'mining_businesses'\n",
    "        elif 'number_of_businesses' in column and 'retail_trade' in column:\n",
    "            type_ = 'retail_trade_businesses'\n",
    "        elif 'ocptns_dbtrs_entrg' in column and 'clr_ad' in column:\n",
    "            type_ = 'clerical_administrative_debtors'\n",
    "        elif 'ocptns_dbtrs_entrg' in column and 'cmnty' in column:\n",
    "            type_ = 'community_personal_service_debtors'\n",
    "        elif 'ocptns_dbtrs_entrg' in column and 'lbrs_n' in column:\n",
    "            type_ = 'labour_debtors'\n",
    "        elif 'ocptns_dbtrs_entrg' in column and 'mchnry' in column:\n",
    "            type_ = 'machinery_operators_and_drivers_debtors'\n",
    "        elif 'ocptns_dbtrs_entrg' in column and 'mngrs' in column:\n",
    "            type_ = 'manager_debtors'\n",
    "        elif 'ocptns_dbtrs_entrg' in column and 'or_unk' in column:\n",
    "            type_ = 'debtors_with_unknown_occupations'\n",
    "        elif 'ocptns_dbtrs_entrg' in column and 'prfsnl' in column:\n",
    "            type_ = 'professional_debtors'\n",
    "        elif 'ocptns_dbtrs_entrg' in column and 'sl_wrk' in column:\n",
    "            type_ = 'sales_debtors'\n",
    "        elif 'ocptns_dbtrs_entrg' in column and 'tchns' in column:\n",
    "            type_ = 'technicians_and_trades_debtors'\n",
    "        elif 'prsnl_inslvncs' in column:\n",
    "            type_ = 'personal_insolvencies'\n",
    "        elif 'attchd_dwllngs_mdn_sle_prce' in column:\n",
    "            type_ = 'median_price_attached_dwellings'\n",
    "        elif 'hss_mdn_sle_prce' in column:\n",
    "            type_ = 'median_sale_price_houses'\n",
    "        elif 'hss_nmbr_trnsfrs_nm' in column:\n",
    "            type_ = 'transfer_houses_num'\n",
    "        elif 'atchd_dwlngs_nmbr_trnsf_nm' in column:\n",
    "            type_ = 'transfer_attached_dwellings_num'\n",
    "        elif 'bsn_rltd_csd_ecnm_cndts_nm' in column:\n",
    "            type_ = 'personal_insolvencies_economic'\n",
    "        elif 'bsn_rltd_csd_excsv_use_of' in column:\n",
    "            type_ = 'personal_insolvencies_excessive_credit'\n",
    "        elif 'bsn_rltd_csd_unmplyt_ls_o' in column:\n",
    "            type_ = 'personal_insolvencies_loss_of_income'\n",
    "\n",
    "        # 遍历每一行\n",
    "        for index, value in economy[column].items():\n",
    "            row_data = {\n",
    "                'year': economy[' yr'][index],\n",
    "                'lga_name': economy[' lga_name_2019'][index],\n",
    "                'lga_code': economy[' lga_code_2019'][index],\n",
    "                'type': type_,\n",
    "                'count': value\n",
    "            }\n",
    "            transformed_economy_data.append(row_data)\n",
    "\n",
    "transformed_economy_df = pd.DataFrame(transformed_economy_data)"
   ]
  },
  {
   "cell_type": "code",
   "execution_count": null,
   "metadata": {},
   "outputs": [],
   "source": [
    "pivot_econmy_df = transformed_economy_df.pivot_table(index=['year', 'lga_name', 'lga_code'], columns='type', values='count', aggfunc = 'sum', fill_value=0)\n",
    "pivot_econmy_df.reset_index(inplace=True)"
   ]
  },
  {
   "cell_type": "code",
   "execution_count": null,
   "metadata": {},
   "outputs": [],
   "source": [
    "pivot_econmy_df['debtor_num'] = pivot_econmy_df[[col for col in pivot_econmy_df.columns if 'debtors' in col]].sum(axis=1)\n",
    "pivot_econmy_df['businesses_num'] = pivot_econmy_df[[col for col in pivot_econmy_df.columns if 'businesses' in col]].sum(axis=1)\n",
    "pivot_econmy_df['personal_insolvencies_num'] = pivot_econmy_df[[col for col in pivot_econmy_df.columns if 'personal_insolvencies' in col]].sum(axis=1)\n",
    "cols_to_keep = [col for col in pivot_econmy_df.columns if not any(x in col for x in ['debtors', 'businesses', 'personal_insolvencies'])]\n",
    "cols_to_keep.extend(['businesses_num', 'personal_insolvencies_num'])\n",
    "economy_filtered = pivot_econmy_df[cols_to_keep]"
   ]
  },
  {
   "cell_type": "code",
   "execution_count": null,
   "metadata": {},
   "outputs": [],
   "source": [
    "economy_filtered"
   ]
  }
 ],
 "metadata": {
  "kernelspec": {
   "display_name": "Python 3.11.6 ('spanalytics')",
   "language": "python",
   "name": "python3"
  },
  "language_info": {
   "codemirror_mode": {
    "name": "ipython",
    "version": 3
   },
   "file_extension": ".py",
   "mimetype": "text/x-python",
   "name": "python",
   "nbconvert_exporter": "python",
   "pygments_lexer": "ipython3",
   "version": "3.11.6"
  },
  "orig_nbformat": 4,
  "vscode": {
   "interpreter": {
    "hash": "041bf634e479dadabb31e2d1def64b8ccb9b3e088cb1a29a99fa6aa9bce94abd"
   }
  }
 },
 "nbformat": 4,
 "nbformat_minor": 2
}
